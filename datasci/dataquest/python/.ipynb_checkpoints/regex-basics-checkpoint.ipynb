{
 "cells": [
  {
   "cell_type": "markdown",
   "metadata": {},
   "source": [
    "# Regular Expressions\n",
    "\n",
    "Regular expressions describe _patterns_ which are used to find _matches_ in target strings."
   ]
  },
  {
   "cell_type": "code",
   "execution_count": 1,
   "metadata": {},
   "outputs": [
    {
     "data": {
      "text/html": [
       "<div>\n",
       "<style scoped>\n",
       "    .dataframe tbody tr th:only-of-type {\n",
       "        vertical-align: middle;\n",
       "    }\n",
       "\n",
       "    .dataframe tbody tr th {\n",
       "        vertical-align: top;\n",
       "    }\n",
       "\n",
       "    .dataframe thead th {\n",
       "        text-align: right;\n",
       "    }\n",
       "</style>\n",
       "<table border=\"1\" class=\"dataframe\">\n",
       "  <thead>\n",
       "    <tr style=\"text-align: right;\">\n",
       "      <th></th>\n",
       "      <th>id</th>\n",
       "      <th>title</th>\n",
       "      <th>url</th>\n",
       "      <th>num_points</th>\n",
       "      <th>num_comments</th>\n",
       "      <th>author</th>\n",
       "      <th>created_at</th>\n",
       "    </tr>\n",
       "  </thead>\n",
       "  <tbody>\n",
       "    <tr>\n",
       "      <th>0</th>\n",
       "      <td>12224879</td>\n",
       "      <td>Interactive Dynamic Video</td>\n",
       "      <td>http://www.interactivedynamicvideo.com/</td>\n",
       "      <td>386</td>\n",
       "      <td>52</td>\n",
       "      <td>ne0phyte</td>\n",
       "      <td>8/4/2016 11:52</td>\n",
       "    </tr>\n",
       "    <tr>\n",
       "      <th>1</th>\n",
       "      <td>11964716</td>\n",
       "      <td>Florida DJs May Face Felony for April Fools' W...</td>\n",
       "      <td>http://www.thewire.com/entertainment/2013/04/f...</td>\n",
       "      <td>2</td>\n",
       "      <td>1</td>\n",
       "      <td>vezycash</td>\n",
       "      <td>6/23/2016 22:20</td>\n",
       "    </tr>\n",
       "    <tr>\n",
       "      <th>2</th>\n",
       "      <td>11919867</td>\n",
       "      <td>Technology ventures: From Idea to Enterprise</td>\n",
       "      <td>https://www.amazon.com/Technology-Ventures-Ent...</td>\n",
       "      <td>3</td>\n",
       "      <td>1</td>\n",
       "      <td>hswarna</td>\n",
       "      <td>6/17/2016 0:01</td>\n",
       "    </tr>\n",
       "    <tr>\n",
       "      <th>3</th>\n",
       "      <td>10301696</td>\n",
       "      <td>Note by Note: The Making of Steinway L1037 (2007)</td>\n",
       "      <td>http://www.nytimes.com/2007/11/07/movies/07ste...</td>\n",
       "      <td>8</td>\n",
       "      <td>2</td>\n",
       "      <td>walterbell</td>\n",
       "      <td>9/30/2015 4:12</td>\n",
       "    </tr>\n",
       "    <tr>\n",
       "      <th>4</th>\n",
       "      <td>10482257</td>\n",
       "      <td>Title II kills investment? Comcast and other I...</td>\n",
       "      <td>http://arstechnica.com/business/2015/10/comcas...</td>\n",
       "      <td>53</td>\n",
       "      <td>22</td>\n",
       "      <td>Deinos</td>\n",
       "      <td>10/31/2015 9:48</td>\n",
       "    </tr>\n",
       "    <tr>\n",
       "      <th>...</th>\n",
       "      <td>...</td>\n",
       "      <td>...</td>\n",
       "      <td>...</td>\n",
       "      <td>...</td>\n",
       "      <td>...</td>\n",
       "      <td>...</td>\n",
       "      <td>...</td>\n",
       "    </tr>\n",
       "    <tr>\n",
       "      <th>20094</th>\n",
       "      <td>12379592</td>\n",
       "      <td>How Purism Avoids Intels Active Management Tec...</td>\n",
       "      <td>https://puri.sm/philosophy/how-purism-avoids-i...</td>\n",
       "      <td>10</td>\n",
       "      <td>6</td>\n",
       "      <td>AdmiralAsshat</td>\n",
       "      <td>8/29/2016 2:22</td>\n",
       "    </tr>\n",
       "    <tr>\n",
       "      <th>20095</th>\n",
       "      <td>10339284</td>\n",
       "      <td>YC Application Translated and Broken Down</td>\n",
       "      <td>https://medium.com/@zreitano/the-yc-applicatio...</td>\n",
       "      <td>4</td>\n",
       "      <td>1</td>\n",
       "      <td>zreitano</td>\n",
       "      <td>10/6/2015 14:57</td>\n",
       "    </tr>\n",
       "    <tr>\n",
       "      <th>20096</th>\n",
       "      <td>10824382</td>\n",
       "      <td>Microkernels are slow and Elvis didn't do no d...</td>\n",
       "      <td>http://blog.darknedgy.net/technology/2016/01/0...</td>\n",
       "      <td>169</td>\n",
       "      <td>132</td>\n",
       "      <td>vezzy-fnord</td>\n",
       "      <td>1/2/2016 0:49</td>\n",
       "    </tr>\n",
       "    <tr>\n",
       "      <th>20097</th>\n",
       "      <td>10739875</td>\n",
       "      <td>How Product Hunt really works</td>\n",
       "      <td>https://medium.com/@benjiwheeler/how-product-h...</td>\n",
       "      <td>695</td>\n",
       "      <td>222</td>\n",
       "      <td>brw12</td>\n",
       "      <td>12/15/2015 19:32</td>\n",
       "    </tr>\n",
       "    <tr>\n",
       "      <th>20098</th>\n",
       "      <td>11680777</td>\n",
       "      <td>RoboBrowser: Your friendly neighborhood web sc...</td>\n",
       "      <td>https://github.com/jmcarp/robobrowser</td>\n",
       "      <td>182</td>\n",
       "      <td>58</td>\n",
       "      <td>pmoriarty</td>\n",
       "      <td>5/12/2016 1:43</td>\n",
       "    </tr>\n",
       "  </tbody>\n",
       "</table>\n",
       "<p>20099 rows × 7 columns</p>\n",
       "</div>"
      ],
      "text/plain": [
       "             id                                              title  \\\n",
       "0      12224879                          Interactive Dynamic Video   \n",
       "1      11964716  Florida DJs May Face Felony for April Fools' W...   \n",
       "2      11919867       Technology ventures: From Idea to Enterprise   \n",
       "3      10301696  Note by Note: The Making of Steinway L1037 (2007)   \n",
       "4      10482257  Title II kills investment? Comcast and other I...   \n",
       "...         ...                                                ...   \n",
       "20094  12379592  How Purism Avoids Intels Active Management Tec...   \n",
       "20095  10339284          YC Application Translated and Broken Down   \n",
       "20096  10824382  Microkernels are slow and Elvis didn't do no d...   \n",
       "20097  10739875                      How Product Hunt really works   \n",
       "20098  11680777  RoboBrowser: Your friendly neighborhood web sc...   \n",
       "\n",
       "                                                     url  num_points  \\\n",
       "0                http://www.interactivedynamicvideo.com/         386   \n",
       "1      http://www.thewire.com/entertainment/2013/04/f...           2   \n",
       "2      https://www.amazon.com/Technology-Ventures-Ent...           3   \n",
       "3      http://www.nytimes.com/2007/11/07/movies/07ste...           8   \n",
       "4      http://arstechnica.com/business/2015/10/comcas...          53   \n",
       "...                                                  ...         ...   \n",
       "20094  https://puri.sm/philosophy/how-purism-avoids-i...          10   \n",
       "20095  https://medium.com/@zreitano/the-yc-applicatio...           4   \n",
       "20096  http://blog.darknedgy.net/technology/2016/01/0...         169   \n",
       "20097  https://medium.com/@benjiwheeler/how-product-h...         695   \n",
       "20098              https://github.com/jmcarp/robobrowser         182   \n",
       "\n",
       "       num_comments         author        created_at  \n",
       "0                52       ne0phyte    8/4/2016 11:52  \n",
       "1                 1       vezycash   6/23/2016 22:20  \n",
       "2                 1        hswarna    6/17/2016 0:01  \n",
       "3                 2     walterbell    9/30/2015 4:12  \n",
       "4                22         Deinos   10/31/2015 9:48  \n",
       "...             ...            ...               ...  \n",
       "20094             6  AdmiralAsshat    8/29/2016 2:22  \n",
       "20095             1       zreitano   10/6/2015 14:57  \n",
       "20096           132    vezzy-fnord     1/2/2016 0:49  \n",
       "20097           222          brw12  12/15/2015 19:32  \n",
       "20098            58      pmoriarty    5/12/2016 1:43  \n",
       "\n",
       "[20099 rows x 7 columns]"
      ]
     },
     "execution_count": 1,
     "metadata": {},
     "output_type": "execute_result"
    }
   ],
   "source": [
    "import pandas as pd\n",
    "\n",
    "hn = pd.read_csv(\"hacker_news.csv\")\n",
    "hn"
   ]
  },
  {
   "cell_type": "markdown",
   "metadata": {},
   "source": [
    "## Sets\n",
    "\n",
    "A set specifies two or more characters that can match in a single character's position.\n",
    "\n",
    "Sets are defined with square brackets:\n",
    "\n",
    "```\n",
    "[msb]end - would match mend, send, bend\n",
    "```"
   ]
  },
  {
   "cell_type": "code",
   "execution_count": 2,
   "metadata": {},
   "outputs": [
    {
     "data": {
      "text/plain": [
       "160"
      ]
     },
     "execution_count": 2,
     "metadata": {},
     "output_type": "execute_result"
    }
   ],
   "source": [
    "import re\n",
    "\n",
    "python_mentions = 0\n",
    "pattern = \"[Pp]ython\"\n",
    "for t in hn[\"title\"]:\n",
    "    if re.search(pattern, t):\n",
    "        python_mentions += 1\n",
    "python_mentions\n"
   ]
  },
  {
   "cell_type": "code",
   "execution_count": 3,
   "metadata": {},
   "outputs": [
    {
     "data": {
      "text/plain": [
       "160"
      ]
     },
     "execution_count": 3,
     "metadata": {},
     "output_type": "execute_result"
    }
   ],
   "source": [
    "# loops should be avoided, of course\n",
    "python_mentions = hn[\"title\"].str.contains(\"[Pp]ython\").sum()\n",
    "python_mentions"
   ]
  },
  {
   "cell_type": "code",
   "execution_count": 4,
   "metadata": {},
   "outputs": [
    {
     "data": {
      "text/plain": [
       "190                     Ruby on Google AppEngine Goes Beta\n",
       "484           Related: Pure Ruby Relational Algebra Engine\n",
       "1388     Show HN: HTTPalooza  Ruby's greatest HTTP clie...\n",
       "1949     Rewriting a Ruby C Extension in Rust: How a Na...\n",
       "2022     Show HN: CrashBreak  Reproduce exceptions as f...\n",
       "2163                   Ruby 2.3 Is Only 4% Faster than 2.2\n",
       "2306     Websocket Shootout: Clojure, C++, Elixir, Go, ...\n",
       "2620                       Why Startups Use Ruby on Rails?\n",
       "2645     Ask HN: Should I continue working a Ruby gem f...\n",
       "3290     Ruby on Rails and the importance of being stup...\n",
       "3749     Telegram.org Bot Platform Webhooks Server, for...\n",
       "3874     Warp Directory (wd) unix command line tool for...\n",
       "4026     OS X 10.11 Ruby / Rails users can install ther...\n",
       "4163     Charles Nutter of JRuby Banned by Rubinius for...\n",
       "4602     Quiz: Ruby or Rails? Matz and DHH were not abl...\n",
       "5832     Show HN: An experimental Python to C#/Go/Ruby/...\n",
       "6180     Shrine  A new solution for handling file uploa...\n",
       "7171     JRuby+Truffle: Why its important to optimise t...\n",
       "7235                                        Ruby or Rails?\n",
       "7671                    How I hunted the most odd ruby bug\n",
       "7776     Elixir obsoletes Ruby, Erlang and Clojure in o...\n",
       "7870                            Elixir and Ruby Comparison\n",
       "8502     Show HN: Di-ary  a math note-taking app built ...\n",
       "10212               Ruby has been fast enough for 13 years\n",
       "11060    Show HN: VeryAnts: Probabilistic Integer Arith...\n",
       "11534                             The Ruby Code of Conduct\n",
       "11622    FasterPath: Faster Pathname Handling for Ruby ...\n",
       "12061       Ask HN: What's your favorite ruby HTTP client?\n",
       "12091    Show HN: Automated Bundle Update with Descript...\n",
       "12114                                         Awesome Ruby\n",
       "12543    Ruby Bug: SecureRandom should try /dev/urandom...\n",
       "12987    Show HN: Klipse  code evaluator pluggable on a...\n",
       "13550    Matz: I cannot accept the CoC for the Ruby com...\n",
       "13650                  Programs that rewrite Ruby programs\n",
       "14798                  Ruby Wrapper for Telegram's Bot API\n",
       "14980                    A Ruby gem for genetic algorithms\n",
       "16093                          Master Ruby Web APIs Is Out\n",
       "16149         Ruru: native Ruby extensions written in Rust\n",
       "16327                   Make Ruby Great Again [transcript]\n",
       "16422                                 Object Oriented Ruby\n",
       "16536                           Ruby Deoptimization Engine\n",
       "16875                         Video: Make Ruby Great Again\n",
       "17072    A coupon/deals site built using Roda gem for Ruby\n",
       "17510                        Table Flip on Ruby Exceptions\n",
       "18877    Using Rust with Ruby, a Deep Dive with Yehuda ...\n",
       "19077                           Python is Better than Ruby\n",
       "19224                    Modern concurrency tools for Ruby\n",
       "19743    Using a Neural Network to Train a Ruby Twitter...\n",
       "Name: title, dtype: object"
      ]
     },
     "execution_count": 4,
     "metadata": {},
     "output_type": "execute_result"
    }
   ],
   "source": [
    "# select titles mentioning ruby\n",
    "ruby_titles = hn[hn[\"title\"].str.contains(\"[Rr]uby\")].loc[:,\"title\"]\n",
    "ruby_titles"
   ]
  },
  {
   "cell_type": "markdown",
   "metadata": {},
   "source": [
    "## Quantifiers\n",
    "\n",
    "- Used to specify repetition for the previous pattern, eg:\n",
    "   - `a{3}` 'a' three times\n",
    "   - `a{3,5}` 'a' three, four or five times\n",
    "   - `a{3,}` 'a' three or more times\n",
    "   - `a{,3}` 'a' three or fewer times\n",
    "- Special quantifiers\n",
    "   - `a*` - _Zero_ or more, 'a' zero or more times, same as `a{0,}`\n",
    "   - `a+` - _One or more_, 'a' one or more times, same as `a{1,}`\n",
    "   - `a?` - _Optional_, a zero or one time, same as `a{0,1}`"
   ]
  },
  {
   "cell_type": "code",
   "execution_count": 5,
   "metadata": {},
   "outputs": [
    {
     "name": "stdout",
     "output_type": "stream",
     "text": [
      "86 matches found\n"
     ]
    },
    {
     "data": {
      "text/plain": [
       "119      Show HN: Send an email from your shell to your...\n",
       "313          Disposable emails for safe spam free shopping\n",
       "1361     Ask HN: Doing cold emails? helps us prove this...\n",
       "1750     Protect yourself from spam, bots and phishing ...\n",
       "2421                    Ashley Madison hack treating email\n",
       "                               ...                        \n",
       "18098    House panel looking into Reddit post about Cli...\n",
       "18583    Mailgen  Generates clean, responsive HTML for ...\n",
       "18847    Show HN: Crisp iOS keyboard for email and text...\n",
       "19303    Ask HN: Why big email providers don't sign the...\n",
       "19446    Tell HN: Secure email provider Riseup will run...\n",
       "Name: title, Length: 86, dtype: object"
      ]
     },
     "execution_count": 5,
     "metadata": {},
     "output_type": "execute_result"
    }
   ],
   "source": [
    "# find titles with the string email or e-mail in them...\n",
    "email_bool = hn.loc[:, \"title\"].str.contains(\"e[-]*mail\")\n",
    "# True and False are treated as 0, 1 so sum() gives total matches\n",
    "email_count = email_bool.sum()\n",
    "print(f\"{email_count} matches found\")\n",
    "email_titles = hn[email_bool].loc[:, \"title\"]\n",
    "email_titles"
   ]
  },
  {
   "cell_type": "markdown",
   "metadata": {},
   "source": [
    "## Character Classes\n",
    "\n",
    "- Allows matches on sets / ranges of characters, eg:\n",
    "   - `[fud]` (set) matches f, u or d\n",
    "   - `[a-e]` (range) matches a, b, c, d or e\n",
    "   - `[0-3]` (range) matches 0, 1, 2 or 3\n",
    "   - `[A-Z]` (range) matches any uppercase char\n",
    "   - `[A-Za-z]` (set+range) matches any upp or lowercase char\n",
    "   \n",
    "- Common abbreviated character classes\n",
    "   - `\\d` - Digit, `[0-9]`\n",
    "   - `\\w - Word, `[A-Za-z0-9_]` including undrescore\n",
    "   - `\\s` - Whitespace, any space, tab or linebreak char\n",
    "   - `.` - Dot, any char except newline"
   ]
  },
  {
   "cell_type": "code",
   "execution_count": 6,
   "metadata": {},
   "outputs": [
    {
     "data": {
      "text/plain": [
       "66       Analysis of 114 propaganda sources from ISIS, ...\n",
       "100      Munich Gunman Got Weapon from the Darknet [Ger...\n",
       "159           File indexing and searching for Plan 9 [pdf]\n",
       "162      Attack on Kunduz Trauma Centre, Afghanistan  I...\n",
       "195                 [Beta] Speedtest.net  HTML5 Speed Test\n",
       "                               ...                        \n",
       "19763    TSA can now force you to go through body scann...\n",
       "19867                       Using Pony for Fintech [video]\n",
       "19947                                Swift Reversing [pdf]\n",
       "19979    WSJ/Dowjones Announce Unauthorized Access Betw...\n",
       "20089    Users Really Do Plug in USB Drives They Find [...\n",
       "Name: title, Length: 444, dtype: object"
      ]
     },
     "execution_count": 6,
     "metadata": {},
     "output_type": "execute_result"
    }
   ],
   "source": [
    "# find strings with a single word in square brackets, eg [go]\n",
    "pattern = \"\\[\\w+\\]\"\n",
    "tag_titles = hn[hn.loc[:,\"title\"].str.contains(pattern)].loc[:, \"title\"]\n",
    "tag_titles"
   ]
  },
  {
   "cell_type": "markdown",
   "metadata": {},
   "source": [
    "## Escape Sequences, Raw Strings\n",
    "\n",
    "- Escape sequences such as `\\t` (tab),`\\b` (backspace)m `\\n` (newline) etc, can make writing regex messy\n",
    "- To include regex special chars, backslashed etc in a pattern need to escape them, eg `\\[`\n",
    "- To search for a literal `\\n` would need double backslash,  `\\\\n`\n",
    "- **Raw Strings** are preferable for creating regex patterms\n",
    "- Raw strings are denoted `r\"ABC\\n123\"`"
   ]
  },
  {
   "cell_type": "code",
   "execution_count": 7,
   "metadata": {},
   "outputs": [
    {
     "name": "stdout",
     "output_type": "stream",
     "text": [
      "This is \n",
      "NOT a raw string\n",
      "This \\nis \\na \\nRAW \\nstring\n"
     ]
    }
   ],
   "source": [
    "print(\"This is \\nNOT a raw string\")\n",
    "print(r\"This \\nis \\na \\nRAW \\nstring\")"
   ]
  },
  {
   "cell_type": "markdown",
   "metadata": {},
   "source": [
    "## Capture Groups\n",
    "\n",
    "- Allow for the literal string(s) that matched the regex, to be captured\n",
    "- Capture groups are specified using parenthesis, eg `(\\[\\w+\\])`\n",
    "- where `.contains()` returns a bool on match, `extract()` captures the match defined by the capture group"
   ]
  },
  {
   "cell_type": "code",
   "execution_count": 8,
   "metadata": {},
   "outputs": [
    {
     "data": {
      "text/plain": [
       "pdf            276\n",
       "video          111\n",
       "2015             3\n",
       "audio            3\n",
       "2014             2\n",
       "slides           2\n",
       "beta             2\n",
       "viz              1\n",
       "German           1\n",
       "Petition         1\n",
       "NSFW             1\n",
       "Map              1\n",
       "Live             1\n",
       "JavaScript       1\n",
       "Infograph        1\n",
       "HBR              1\n",
       "Challenge        1\n",
       "GOST             1\n",
       "Excerpt          1\n",
       "React            1\n",
       "CSS              1\n",
       "Beta             1\n",
       "Benchmark        1\n",
       "Australian       1\n",
       "ANNOUNCE         1\n",
       "5                1\n",
       "2008             1\n",
       "Python           1\n",
       "SpaceX           1\n",
       "SPA              1\n",
       "gif              1\n",
       "updated          1\n",
       "transcript       1\n",
       "survey           1\n",
       "song             1\n",
       "satire           1\n",
       "repost           1\n",
       "png              1\n",
       "much             1\n",
       "map              1\n",
       "detainee         1\n",
       "Skinnywhale      1\n",
       "crash            1\n",
       "comic            1\n",
       "coffee           1\n",
       "blank            1\n",
       "ask              1\n",
       "Videos           1\n",
       "Ubuntu           1\n",
       "USA              1\n",
       "videos           1\n",
       "1996             1\n",
       "dtype: int64"
      ]
     },
     "execution_count": 8,
     "metadata": {},
     "output_type": "execute_result"
    }
   ],
   "source": [
    "tag_freq = hn.loc[:,\"title\"].str.extract(r\"\\[(\\w+)\\]\").value_counts()\n",
    "tag_freq"
   ]
  },
  {
   "cell_type": "markdown",
   "metadata": {},
   "source": [
    "## Negative Character Classes\n",
    "\n",
    "- Used to match every character EXCEPT a character class\n",
    "- Negative sets denoted `^`, eg:\n",
    "   - `[^fud]` - Any char except 'f', 'u' or 'd'\n",
    "   - `[^1-3Z\\s]` - Any char except '1', '2', '3', 'Z' or a whitespace\n",
    "- Common negative character classes:\n",
    "   - `\\D` - any char except a digit chars\n",
    "   - `\\W` - any char except word chars\n",
    "   - `\\S` - any char except whitespace chars"
   ]
  },
  {
   "cell_type": "code",
   "execution_count": 9,
   "metadata": {},
   "outputs": [
    {
     "data": {
      "text/plain": [
       "436      Unikernel Power Comes to Java, Node.js, Go, an...\n",
       "811      Ask HN: Are there any projects or compilers wh...\n",
       "1840                     Adopting RxJava on the Airbnb App\n",
       "1972           Node.js vs. Java: Which Is Faster for APIs?\n",
       "2093                     Java EE and Microservices in 2016\n",
       "2367     Code that is valid in both PHP and Java, and p...\n",
       "2493     Ask HN: I've been a java dev for a couple of y...\n",
       "2751                 Eventsourcing for Java 0.4.0 released\n",
       "2910                 2016 JavaOne Intel Keynote  32mn Talk\n",
       "3452     What are the Differences Between Java Platform...\n",
       "4273      Ask HN: Is Bloch's Effective Java Still Current?\n",
       "4624     Oracle Discloses Critical Java Vulnerability i...\n",
       "5461                        Lambdas (in Java 8) Screencast\n",
       "5847     IntelliJ IDEA and the whole IntelliJ platform ...\n",
       "5947                                        JavaFX is dead\n",
       "6268             Oracle deprecating Java applets in Java 9\n",
       "7436     Forget Guava: 5 Google Libraries Java Develope...\n",
       "7481     Ask HN: Beside Java what languages have a stro...\n",
       "8100        Advantages of Functional Programming in Java 8\n",
       "8135     Show HN: Rogue AI Dungeon, javacript bot scrip...\n",
       "8447                  Show HN: Java multicore intelligence\n",
       "8487     Why IntelliJ IDEA is hailed as the most friend...\n",
       "8984     Ask HN: Should Learn/switch to JavaScript Prog...\n",
       "8987     Last-khajiit/vkb: Java bot for vk.com competit...\n",
       "10529             Angular 2 coming to Java, Python and PHP\n",
       "11454    Ask HN: Java or .NET for a new big enterprise ...\n",
       "11902                         The Java Deserialization Bug\n",
       "12382          Ask HN: Why does Java continue to dominate?\n",
       "12582    Java Memory Model Examples: Good, Bad and Ugly...\n",
       "12711    Oracle seeks $9.3B for Googles use of Java in ...\n",
       "13048        A high performance caching library for Java 8\n",
       "13105    Show HN: Backblaze-b2 is a simple java library...\n",
       "13150             Java Tops TIOBE's Popular-Languages List\n",
       "13170    Show HN: Tablesaw: A Java data-frame for 500M-...\n",
       "13272      Java StringBuffer and StringBuilder performance\n",
       "13620    1M Java questions have now been asked on Stack...\n",
       "13839        Ask HN: Hosting a Java Spring web application\n",
       "13843                                 Var and val in Java?\n",
       "13844               Answerz.com  Java and J2ee Programming\n",
       "13930     Java 8s new Optional type doesn't solve anything\n",
       "13934    Java 6 vs. Java 7 vs. Java 8 between 2013  201...\n",
       "15257                       Oracle and the fall of Java EE\n",
       "15868                 Java generics never cease to impress\n",
       "16023    Will you use ReactJS with a REST service inste...\n",
       "16932       Swift versus Java: the bitset performance test\n",
       "16948          Show HN: Bt  0-hassle BitTorrent for Java 8\n",
       "17579                Java Lazy Streamed Zip Implementation\n",
       "18407    Show HN: Scala idioms in Java: cases, patterns...\n",
       "19481    Show HN: Adding List Comprehension in Java - E...\n",
       "19735          Java Named Top Programming Language of 2015\n",
       "Name: title, dtype: object"
      ]
     },
     "execution_count": 9,
     "metadata": {},
     "output_type": "execute_result"
    }
   ],
   "source": [
    "# Match 'Java' but not JavaScript\n",
    "regex = r\"[Jj]ava[^Ss]\"\n",
    "java_titles_bool = hn.loc[:, \"title\"].str.contains(regex)\n",
    "java_titles = hn[java_titles_bool].loc[:, \"title\"]\n",
    "java_titles"
   ]
  },
  {
   "cell_type": "markdown",
   "metadata": {},
   "source": [
    "## Word Boundary Anchor\n",
    "\n",
    "An important thing to note about negative sets is that they must must one character so they don't work at the end of a string.\n",
    "\n",
    "For example, matching 'Java' but not 'JavaScript' with `r\"[Jj]ava[^Ss]\"` would not pick up 'I hate Java' as there is no char \n",
    "following \"a\" that is a negative match for `[^Ss]`.\n",
    "\n",
    "A **word boundary anchor** is an alternative approach. It is used to match the boundary between w _word_ char and a _non-word_ char.\n",
    "\n",
    "eg: `r\"\\bJava\\b\"`\n"
   ]
  },
  {
   "cell_type": "code",
   "execution_count": 10,
   "metadata": {},
   "outputs": [
    {
     "name": "stdout",
     "output_type": "stream",
     "text": [
      "None\n",
      "<re.Match object; span=(7, 11), match='Java'>\n"
     ]
    }
   ],
   "source": [
    "str1 = \"I hate Java\"\n",
    "print(re.search(r\"[Jj]ava[^Ss]\", str1))\n",
    "print(re.search(r\"\\b[Jj]ava\\b\", str1))"
   ]
  },
  {
   "cell_type": "code",
   "execution_count": 12,
   "metadata": {},
   "outputs": [
    {
     "data": {
      "text/plain": [
       "436      Unikernel Power Comes to Java, Node.js, Go, an...\n",
       "811      Ask HN: Are there any projects or compilers wh...\n",
       "1023                          Pippo  Web framework in Java\n",
       "1972           Node.js vs. Java: Which Is Faster for APIs?\n",
       "2093                     Java EE and Microservices in 2016\n",
       "2367     Code that is valid in both PHP and Java, and p...\n",
       "2493     Ask HN: I've been a java dev for a couple of y...\n",
       "2751                 Eventsourcing for Java 0.4.0 released\n",
       "3228                               Comparing Rust and Java\n",
       "3452     What are the Differences Between Java Platform...\n",
       "3627                     Friends don't let friends do Java\n",
       "4273      Ask HN: Is Bloch's Effective Java Still Current?\n",
       "4624     Oracle Discloses Critical Java Vulnerability i...\n",
       "5461                        Lambdas (in Java 8) Screencast\n",
       "5847     IntelliJ IDEA and the whole IntelliJ platform ...\n",
       "6268             Oracle deprecating Java applets in Java 9\n",
       "7436     Forget Guava: 5 Google Libraries Java Develope...\n",
       "7481     Ask HN: Beside Java what languages have a stro...\n",
       "7686             Insider: Oracle has lost interest in Java\n",
       "8100        Advantages of Functional Programming in Java 8\n",
       "8447                  Show HN: Java multicore intelligence\n",
       "8487     Why IntelliJ IDEA is hailed as the most friend...\n",
       "8984     Ask HN: Should Learn/switch to JavaScript Prog...\n",
       "8987     Last-khajiit/vkb: Java bot for vk.com competit...\n",
       "10529             Angular 2 coming to Java, Python and PHP\n",
       "11454    Ask HN: Java or .NET for a new big enterprise ...\n",
       "11902                         The Java Deserialization Bug\n",
       "12382          Ask HN: Why does Java continue to dominate?\n",
       "12582    Java Memory Model Examples: Good, Bad and Ugly...\n",
       "12711    Oracle seeks $9.3B for Googles use of Java in ...\n",
       "12730                              Show HN: Shazam in Java\n",
       "13048        A high performance caching library for Java 8\n",
       "13105    Show HN: Backblaze-b2 is a simple java library...\n",
       "13150             Java Tops TIOBE's Popular-Languages List\n",
       "13170    Show HN: Tablesaw: A Java data-frame for 500M-...\n",
       "13272      Java StringBuffer and StringBuilder performance\n",
       "13620    1M Java questions have now been asked on Stack...\n",
       "13839        Ask HN: Hosting a Java Spring web application\n",
       "13843                                 Var and val in Java?\n",
       "13844               Answerz.com  Java and J2ee Programming\n",
       "13930     Java 8s new Optional type doesn't solve anything\n",
       "13934    Java 6 vs. Java 7 vs. Java 8 between 2013  201...\n",
       "14393              JavaScript is immature compared to Java\n",
       "14847    Show HN: TurboRLE: Bringing Turbo Run Length E...\n",
       "15257                       Oracle and the fall of Java EE\n",
       "15868                 Java generics never cease to impress\n",
       "16023    Will you use ReactJS with a REST service inste...\n",
       "16932       Swift versus Java: the bitset performance test\n",
       "16948          Show HN: Bt  0-hassle BitTorrent for Java 8\n",
       "17458                            Super Mario clone in Java\n",
       "17579                Java Lazy Streamed Zip Implementation\n",
       "18407    Show HN: Scala idioms in Java: cases, patterns...\n",
       "19481    Show HN: Adding List Comprehension in Java - E...\n",
       "19735          Java Named Top Programming Language of 2015\n",
       "Name: title, dtype: object"
      ]
     },
     "execution_count": 12,
     "metadata": {},
     "output_type": "execute_result"
    }
   ],
   "source": [
    "# Improved match for Java and not Javascript\n",
    "java_titles_bool = hn.loc[:,\"title\"].str.contains(r\"\\b[Jj]ava\\b\")\n",
    "java_titles = hn[java_titles_bool].loc[:,\"title\"]\n",
    "java_titles"
   ]
  },
  {
   "cell_type": "markdown",
   "metadata": {},
   "source": [
    "## Beginning and End Anchors\n",
    "\n",
    "In regex, **anchors** are generally used match something that is not a character:\n",
    "\n",
    "- `^abc` - Beginning, matches abc ONLY at the start of a string\n",
    "- `abc$` - End, matches abc at the end of a string\n",
    "\n",
    "Note `[^...]`  is a negative set and `^...` is a beginning anchor.\n"
   ]
  },
  {
   "cell_type": "code",
   "execution_count": 16,
   "metadata": {},
   "outputs": [
    {
     "name": "stdout",
     "output_type": "stream",
     "text": [
      "15\n",
      "417\n"
     ]
    }
   ],
   "source": [
    "# How many times does any tag, eg [pdf], appear at the start of a title\n",
    "beginning_count = hn.loc[:, \"title\"].str.contains(r\"^\\[\\w+\\]\").sum()\n",
    "print(beginning_count)\n",
    "\n",
    "# How many times does any tag, eg [pdf], appear at the end of a title\n",
    "ending_count = hn.loc[:, \"title\"].str.contains(r\"\\[\\w+\\]$\").sum()\n",
    "print(ending_count)"
   ]
  },
  {
   "cell_type": "markdown",
   "metadata": {},
   "source": [
    "## Flags\n",
    "\n",
    "Flags are used to indicate special considerations for a regex, such as ignoring case.\n",
    "\n",
    "[Full list of flags](https://docs.python.org/3/library/re.html#re.A)"
   ]
  },
  {
   "cell_type": "code",
   "execution_count": 18,
   "metadata": {},
   "outputs": [
    {
     "data": {
      "text/plain": [
       "141"
      ]
     },
     "execution_count": 18,
     "metadata": {},
     "output_type": "execute_result"
    }
   ],
   "source": [
    "# Check for mention of the word email in titles, in any form, eg email, e-mails etc\n",
    "# flag re.I is IGNORECASE\n",
    "rgx = r\"\\be\\s?-?mails?\\b\"\n",
    "email_mentions = hn.loc[:,\"title\"].str.contains(rgx, flags=re.I).sum()\n",
    "email_mentions"
   ]
  },
  {
   "cell_type": "code",
   "execution_count": 19,
   "metadata": {},
   "outputs": [
    {
     "data": {
      "text/html": [
       "<style>\n",
       "  table {margin-left: 0 !important;}\n",
       "</style>\n"
      ],
      "text/plain": [
       "<IPython.core.display.HTML object>"
      ]
     },
     "metadata": {},
     "output_type": "display_data"
    }
   ],
   "source": [
    "%%html\n",
    "<style>\n",
    "  table {margin-left: 0 !important;}\n",
    "</style>"
   ]
  },
  {
   "cell_type": "markdown",
   "metadata": {},
   "source": [
    "## Regular Expression Basics\n",
    "\n",
    "### Syntax\n",
    "---\n",
    "\n",
    "#### REGULAR EXPRESSION MODULE\n",
    "\n",
    "Importing the regular expression module:\n",
    "```python\n",
    "import re\n",
    "```\n",
    "\n",
    "Searching a string for a regex pattern:\n",
    "```python\n",
    "re.search(r\"blue\", \"Rhythm and blues\")\n",
    "```\n",
    "\n",
    "#### PANDAS REGEX METHODS\n",
    "\n",
    "Return a boolean mask if a regex pattern is found in a series:\n",
    "```python\n",
    "s.str.contains(pattern)\n",
    "```\n",
    "\n",
    "Extract a regex capture group from a series:\n",
    "```python\n",
    "s.str.extract(pattern_with_capture_group)\n",
    "```\n",
    "\n",
    "#### ESCAPING CHARACTERS\n",
    "\n",
    "Treating special characters as ordinary text using backslashes:\n",
    "\n",
    "```python\n",
    "r\"\\[pdf\\]\"\n",
    "```\n",
    "\n",
    "### Concepts\n",
    "- Regular expressions, often referred to as regex, are a set of syntax components used for matching sequences of characters in strings.\n",
    "- A pattern is described as a regular expression that we've written. We say regular expression has matched if it finds the pattern exists in the string.\n",
    "- Character classes allow us to match certain classes of characters.\n",
    "- A set contains two or more characters that can match in a single character's position.\n",
    "- Quantifiers specify how many of the previous characters the pattern requires.\n",
    "- Capture groups allow us to specify one or more groups within our match that we can access separately.\n",
    "- Negative character classes are character classes that match every character except a character class.\n",
    "- An anchor matches something that isn't a character, as opposed to character classes which match specific characters.\n",
    "- A word boundary matches the space between a word character and a non-word character, or a word character and the start/end of a string\n",
    "\n",
    "- Common character classes: \n",
    "\n",
    "|Character Class|Pattern|Explanation|\n",
    "|:-|:-|:-|\n",
    "|Set|`[fud]`|Either f, u, or d|\n",
    "|Range|`[a-e]`|Any of the characters a, b, c, d, or e|\n",
    "|Range|`[0-3]`|Any of the characters 0, 1, 2, or 3|\n",
    "|Range|`[A-Z]`|Any uppercase letter|\n",
    "|Set + Range|`[A-Za-z]`|Any uppercase or lowercase character|\n",
    "|Digit|`\\d`|Any digit character (equivalent to `[0-9]`)|\n",
    "|Word|`\\w`|Any digit, uppercase, or lowercase character (equivalent to `[A-Za-z0-9]`)|\n",
    "|Whitespace|`\\s`|Any space, tab or linebreak character|\n",
    "|Dot|`.`|Any character except newline|\n",
    "\n",
    "\n",
    "- Common quantifiers: \n",
    "\n",
    "|Quantifier|Pattern|Explanation|\n",
    "|:-|:-|:-|\n",
    "|Zero or more}|`a*`|The character a zero or more times|\n",
    "|One or more|`a+`|The character a one or more times|\n",
    "|Optional|`a?`|The character a zero or one times|\n",
    "|Numeric|`a{3}`|The character a three times|\n",
    "|Numeric|`a{3,5}`|The character a three, four, or five times|\n",
    "|Numeric|`a{,3}`|The character a one, two, or three times|\n",
    "|Numeric|`a{8,}`|The character a eight or more times|\n",
    "\n",
    "- Common negative character classes: \n",
    "\n",
    "|Character Class|Pattern|Explanation|\n",
    "|:-|:-|:-|\n",
    "|Negative Set|`[^fud]`|Any character except f, u, or d|\n",
    "|Negative Set|`[^1-3Z\\s]`|Any characters except 1, 2, 3, Z, or whitespace characters|\n",
    "|Negative Digit|`\\D`|Any character except digit characters|\n",
    "|Negative Word|`\\W`|Any character except word characters|\n",
    "|Negative Whitespace|`\\S`|Any character except whitespace characters|\n",
    "\n",
    "- Common anchors: \n",
    "\n",
    "|Anchor|Pattern|Explanation|\n",
    "|:-|:-|:-|\n",
    "|Beginning|`^abc`|Matches abc only at the start of a string|\n",
    "|End|`abc$`|Matches abc only at the end of a string|\n",
    "|Word boundary|`s\\b`|Matches s only when it's followed by a word boundary|\n",
    "|Word boundary|`s\\B`|Matches s only when it's not followed by a word boundary|\n",
    "\n",
    "### Resources\n",
    "- [re module](https://docs.python.org/3/library/re.html#module-re)\n",
    "- [Regexr for building regular expressions](https://regexr.com/)"
   ]
  }
 ],
 "metadata": {
  "kernelspec": {
   "display_name": "Python 3",
   "language": "python",
   "name": "python3"
  },
  "language_info": {
   "codemirror_mode": {
    "name": "ipython",
    "version": 3
   },
   "file_extension": ".py",
   "mimetype": "text/x-python",
   "name": "python",
   "nbconvert_exporter": "python",
   "pygments_lexer": "ipython3",
   "version": "3.7.3"
  }
 },
 "nbformat": 4,
 "nbformat_minor": 4
}
