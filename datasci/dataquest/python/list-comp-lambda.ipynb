{
 "cells": [
  {
   "cell_type": "markdown",
   "metadata": {},
   "source": [
    "# List Comprehensions and Lamda Functions"
   ]
  },
  {
   "cell_type": "code",
   "execution_count": 7,
   "metadata": {},
   "outputs": [
    {
     "name": "stdout",
     "output_type": "stream",
     "text": [
      "{\n",
      "  \"author\": \"dragongraphics\",\n",
      "  \"createdAt\": \"2014-05-29T08:07:50Z\",\n",
      "  \"createdAtI\": 1401350870,\n",
      "  \"numComments\": 0,\n",
      "  \"objectId\": \"7815238\",\n",
      "  \"points\": 2,\n",
      "  \"storyText\": \"\",\n",
      "  \"tags\": [\n",
      "    \"story\",\n",
      "    \"author_dragongraphics\",\n",
      "    \"story_7815238\"\n",
      "  ],\n",
      "  \"title\": \"Are we getting too Sassy? Weighing up micro-optimisation vs. maintainability\",\n",
      "  \"url\": \"http://ashleynolan.co.uk/blog/are-we-getting-too-sassy\"\n",
      "}\n"
     ]
    }
   ],
   "source": [
    "# Load data, and have a look\n",
    "import json\n",
    "\n",
    "hn = json.load(open(\"hn_2014.json\"))\n",
    "print(json.dumps(hn[0], sort_keys=True, indent=2))"
   ]
  },
  {
   "cell_type": "code",
   "execution_count": 10,
   "metadata": {},
   "outputs": [
    {
     "data": {
      "text/plain": [
       "{'author': 'dragongraphics',\n",
       " 'numComments': 0,\n",
       " 'points': 2,\n",
       " 'url': 'http://ashleynolan.co.uk/blog/are-we-getting-too-sassy',\n",
       " 'storyText': '',\n",
       " 'createdAt': '2014-05-29T08:07:50Z',\n",
       " 'tags': ['story', 'author_dragongraphics', 'story_7815238'],\n",
       " 'title': 'Are we getting too Sassy? Weighing up micro-optimisation vs. maintainability',\n",
       " 'objectId': '7815238'}"
      ]
     },
     "execution_count": 10,
     "metadata": {},
     "output_type": "execute_result"
    }
   ],
   "source": [
    "# Remove \"createdAtI\" key\n",
    "hn_clean = []\n",
    "for story in hn:\n",
    "    story_copy = story.copy()     # don't modify the original\n",
    "    del story_copy[\"createdAtI\"] # remove unwanted key\n",
    "    hn_clean.append(story_copy)\n",
    "    \n",
    "hn_clean[0]"
   ]
  },
  {
   "cell_type": "code",
   "execution_count": 11,
   "metadata": {},
   "outputs": [
    {
     "ename": "SyntaxError",
     "evalue": "invalid syntax (<ipython-input-11-96e38628adaf>, line 2)",
     "output_type": "error",
     "traceback": [
      "\u001b[0;36m  File \u001b[0;32m\"<ipython-input-11-96e38628adaf>\"\u001b[0;36m, line \u001b[0;32m2\u001b[0m\n\u001b[0;31m    hn_clean = [lambda story: del story[\"createAtI\"] for story in hn]\u001b[0m\n\u001b[0m                              ^\u001b[0m\n\u001b[0;31mSyntaxError\u001b[0m\u001b[0;31m:\u001b[0m invalid syntax\n"
     ]
    }
   ],
   "source": [
    "# Same, with list comprehension\n",
    "hn_clean = [lambda story: del story[\"createAtI\"] for story in hn]\n",
    "hn_clean[0]"
   ]
  }
 ],
 "metadata": {
  "kernelspec": {
   "display_name": "Python 3",
   "language": "python",
   "name": "python3"
  },
  "language_info": {
   "codemirror_mode": {
    "name": "ipython",
    "version": 3
   },
   "file_extension": ".py",
   "mimetype": "text/x-python",
   "name": "python",
   "nbconvert_exporter": "python",
   "pygments_lexer": "ipython3",
   "version": "3.8.5"
  }
 },
 "nbformat": 4,
 "nbformat_minor": 4
}
