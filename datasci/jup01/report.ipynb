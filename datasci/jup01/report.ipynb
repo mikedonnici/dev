{
 "cells": [
  {
   "cell_type": "code",
   "execution_count": 4,
   "metadata": {},
   "outputs": [
    {
     "data": {
      "text/html": [
       "<div>\n",
       "<style scoped>\n",
       "    .dataframe tbody tr th:only-of-type {\n",
       "        vertical-align: middle;\n",
       "    }\n",
       "\n",
       "    .dataframe tbody tr th {\n",
       "        vertical-align: top;\n",
       "    }\n",
       "\n",
       "    .dataframe thead th {\n",
       "        text-align: right;\n",
       "    }\n",
       "</style>\n",
       "<table border=\"1\" class=\"dataframe\">\n",
       "  <thead>\n",
       "    <tr style=\"text-align: right;\">\n",
       "      <th></th>\n",
       "      <th>date</th>\n",
       "      <th>activities</th>\n",
       "    </tr>\n",
       "  </thead>\n",
       "  <tbody>\n",
       "    <tr>\n",
       "      <th>0</th>\n",
       "      <td>2020-01-01 07:00:00</td>\n",
       "      <td>23</td>\n",
       "    </tr>\n",
       "    <tr>\n",
       "      <th>1</th>\n",
       "      <td>2020-01-01 08:00:00</td>\n",
       "      <td>35</td>\n",
       "    </tr>\n",
       "    <tr>\n",
       "      <th>2</th>\n",
       "      <td>2020-01-01 09:00:00</td>\n",
       "      <td>67</td>\n",
       "    </tr>\n",
       "    <tr>\n",
       "      <th>3</th>\n",
       "      <td>2020-01-01 10:00:00</td>\n",
       "      <td>123</td>\n",
       "    </tr>\n",
       "    <tr>\n",
       "      <th>4</th>\n",
       "      <td>2020-01-01 11:00:00</td>\n",
       "      <td>34</td>\n",
       "    </tr>\n",
       "  </tbody>\n",
       "</table>\n",
       "</div>"
      ],
      "text/plain": [
       "                 date  activities\n",
       "0 2020-01-01 07:00:00          23\n",
       "1 2020-01-01 08:00:00          35\n",
       "2 2020-01-01 09:00:00          67\n",
       "3 2020-01-01 10:00:00         123\n",
       "4 2020-01-01 11:00:00          34"
      ]
     },
     "execution_count": 4,
     "metadata": {},
     "output_type": "execute_result"
    }
   ],
   "source": [
    "import pandas as pd\n",
    "import matplotlib.pyplot as plt\n",
    "from datetime import datetime\n",
    "\n",
    "data = pd.DataFrame()\n",
    "data['date'] = [\n",
    "    datetime(2020, 1, 1, 7),\n",
    "    datetime(2020, 1, 1, 8),\n",
    "    datetime(2020, 1, 1, 9),\n",
    "    datetime(2020, 1, 1, 10),\n",
    "    datetime(2020, 1, 1, 11),\n",
    "    datetime(2020, 1, 1, 12),\n",
    "    datetime(2020, 1, 1, 13),\n",
    "]\n",
    "data['activities'] = [ 23, 35, 67, 123, 34, 45, 12]\n",
    "data.head()"
   ]
  },
  {
   "cell_type": "code",
   "execution_count": 18,
   "metadata": {
    "pycharm": {
     "name": "#%%\n"
    }
   },
   "outputs": [
    {
     "ename": "TypeError",
     "evalue": "'bool' object is not callable",
     "output_type": "error",
     "traceback": [
      "\u001B[0;31m---------------------------------------------------------------------------\u001B[0m",
      "\u001B[0;31mTypeError\u001B[0m                                 Traceback (most recent call last)",
      "\u001B[0;32m<ipython-input-18-c8cefa20441e>\u001B[0m in \u001B[0;36m<module>\u001B[0;34m\u001B[0m\n\u001B[1;32m      2\u001B[0m \u001B[0mplt\u001B[0m\u001B[0;34m.\u001B[0m\u001B[0mxlabel\u001B[0m \u001B[0;34m=\u001B[0m \u001B[0;34m\"time of day\"\u001B[0m\u001B[0;34m\u001B[0m\u001B[0;34m\u001B[0m\u001B[0m\n\u001B[1;32m      3\u001B[0m \u001B[0mplt\u001B[0m\u001B[0;34m.\u001B[0m\u001B[0mtitle\u001B[0m \u001B[0;34m=\u001B[0m \u001B[0;34m\"A chart of some type\"\u001B[0m\u001B[0;34m\u001B[0m\u001B[0;34m\u001B[0m\u001B[0m\n\u001B[0;32m----> 4\u001B[0;31m \u001B[0mplt\u001B[0m\u001B[0;34m.\u001B[0m\u001B[0mlegend\u001B[0m\u001B[0;34m(\u001B[0m\u001B[0;34m)\u001B[0m\u001B[0;34m\u001B[0m\u001B[0;34m\u001B[0m\u001B[0m\n\u001B[0m\u001B[1;32m      5\u001B[0m \u001B[0mplt\u001B[0m\u001B[0;34m.\u001B[0m\u001B[0mshow\u001B[0m\u001B[0;34m(\u001B[0m\u001B[0;34m)\u001B[0m\u001B[0;34m\u001B[0m\u001B[0;34m\u001B[0m\u001B[0m\n",
      "\u001B[0;31mTypeError\u001B[0m: 'bool' object is not callable"
     ]
    },
    {
     "data": {
      "image/png": "[encoded data removed]",
      "text/plain": [
       "<Figure size 432x288 with 1 Axes>"
      ]
     },
     "metadata": {
      "needs_background": "light"
     },
     "output_type": "display_data"
    }
   ],
   "source": [
    "plt.scatter(data['date'], data['activities'])\n",
    "plt.xlabel = \"time of day\"\n",
    "plt.title = \"A chart of some type\"\n",
    "plt.addlegend()\n",
    "plt.show()"
   ]
  },
  {
   "cell_type": "code",
   "execution_count": 31,
   "metadata": {},
   "outputs": [],
   "source": [
    "import contextlib\n",
    "\n",
    "@contextlib.contextmanager\n",
    "def foo(key):\n",
    "   data = {'a': 'A', 'b': 'B'}    \n",
    "   try:\n",
    "      print(data[key])\n",
    "      yield\n",
    "   except KeyError:\n",
    "      print(f\"No data for key = {key}\")\n",
    "      yield  \n",
    "   finally:\n",
    "      print(\"Running important code after yield OR error\")"
   ]
  },
  {
   "cell_type": "code",
   "execution_count": null,
   "outputs": [],
   "source": [
    "import time\n",
    "\n",
    "def timer(func):\n",
    "    \"\"\"Time the execution of a function.\n",
    "    \n",
    "    Args:\n",
    "       func (function): The function being decorated\n",
    "    \n",
    "    Returns:\n",
    "       function: The decorated function \n",
    "    \"\"\"\n",
    "    def wrapper(*args, **kwargs):\n",
    "        start = time.time()\n",
    "        # store result of the func (if any)\n",
    "        result = func(*args, **kwargs)\n",
    "        end = time.time()    \n",
    "        print(f\"{func.__name__} time: {end-start}\")\n",
    "        return result\n",
    "    return wrapper    \n",
    "\n",
    "@timer\n",
    "def wait_for(seconds):\n",
    "    time.sleep(seconds)\n",
    "    print(\"finished\")\n",
    "\n",
    "wait_for(2)"
   ],
   "metadata": {
    "collapsed": false,
    "pycharm": {
     "name": "#%%\n"
    }
   }
  },
  {
   "cell_type": "code",
   "execution_count": null,
   "outputs": [],
   "source": [
    "import time\n",
    "import json\n",
    "\n",
    "def memoize(func):\n",
    "    \"\"\"Cache function calls to improve performance.\n",
    "    \n",
    "    Args:\n",
    "       func (function): The function being decorated\n",
    "       \n",
    "    Returns:\n",
    "       function: The decorated function\n",
    "    \"\"\"\n",
    "    cache = {} # called once when function is defined?\n",
    "    def wrapper(*args, **kwargs):\n",
    "        # create a string key\n",
    "        key = json.dumps((args, kwargs))\n",
    "        if (key) not in cache:\n",
    "            cache[key] = func(*args, **kwargs)\n",
    "        return cache[key]     \n",
    "    return wrapper\n",
    "\n",
    "@memoize\n",
    "def add(a, b):\n",
    "    print(\"add() function sleeping...\")\n",
    "    time.sleep(3)\n",
    "    return a + b"
   ],
   "metadata": {
    "collapsed": false,
    "pycharm": {
     "name": "#%%\n"
    }
   }
  },
  {
   "cell_type": "code",
   "execution_count": null,
   "outputs": [],
   "source": [
    "\n",
    "def repeat(n):\n",
    "    def decorator(func):\n",
    "        def wrapper(*args, **kwargs):\n",
    "            for i in range(n):\n",
    "                func(*args, **kwargs)\n",
    "        return wrapper\n",
    "    return decorator\n",
    "\n",
    "@repeat(3)\n",
    "def show(s):\n",
    "    print(s)\n",
    "\n",
    "show(\"hello\")"
   ],
   "metadata": {
    "collapsed": false,
    "pycharm": {
     "name": "#%%\n"
    }
   }
  },
  {
   "cell_type": "code",
   "execution_count": 94,
   "metadata": {},
   "outputs": [
    {
     "name": "stdout",
     "output_type": "stream",
     "text": [
      "finished\n",
      "wait_for time: 2.000854969024658\n"
     ]
    }
   ],
   "source": [
    "\n",
    "def repeat(n):\n",
    "    def decorator(func):\n",
    "        def wrapper(*args, **kwargs):\n",
    "            for i in range(n):\n",
    "                func(*args, **kwargs)\n",
    "        return wrapper\n",
    "    return decorator\n",
    "\n",
    "@repeat(3)\n",
    "def show(s):\n",
    "    print(s)\n",
    "\n",
    "show(\"hello\")"
   ]
  },
  {
   "cell_type": "code",
   "execution_count": 133,
   "metadata": {},
   "outputs": [],
   "source": [
    "import time\n",
    "import json\n",
    "\n",
    "def memoize(func):\n",
    "    \"\"\"Cache function calls to improve performance.\n",
    "    \n",
    "    Args:\n",
    "       func (function): The function being decorated\n",
    "       \n",
    "    Returns:\n",
    "       function: The decorated function\n",
    "    \"\"\"\n",
    "    cache = {} # called once when function is defined?\n",
    "    def wrapper(*args, **kwargs):\n",
    "        # create a string key\n",
    "        key = json.dumps((args, kwargs))\n",
    "        if (key) not in cache:\n",
    "            cache[key] = func(*args, **kwargs)\n",
    "        return cache[key]     \n",
    "    return wrapper\n",
    "\n",
    "@memoize\n",
    "def add(a, b):\n",
    "    print(\"add() function sleeping...\")\n",
    "    time.sleep(3)\n",
    "    return a + b"
   ]
  },
  {
   "cell_type": "code",
   "execution_count": 139,
   "metadata": {},
   "outputs": [
    {
     "name": "stdout",
     "output_type": "stream",
     "text": [
      "hello\n",
      "hello\n",
      "hello\n"
     ]
    }
   ],
   "source": [
    "\n",
    "def repeat(n):\n",
    "    def decorator(func):\n",
    "        def wrapper(*args, **kwargs):\n",
    "            for i in range(n):\n",
    "                func(*args, **kwargs)\n",
    "        return wrapper\n",
    "    return decorator\n",
    "\n",
    "@repeat(3)\n",
    "def show(s):\n",
    "    print(s)\n",
    "\n",
    "show(\"hello\")"
   ]
  }
 ],
 "metadata": {
  "kernelspec": {
   "display_name": "Python 3",
   "language": "python",
   "name": "python3"
  },
  "language_info": {
   "codemirror_mode": {
    "name": "ipython",
    "version": 3
   },
   "file_extension": ".py",
   "mimetype": "text/x-python",
   "name": "python",
   "nbconvert_exporter": "python",
   "pygments_lexer": "ipython3",
   "version": "3.7.3"
  }
 },
 "nbformat": 4,
 "nbformat_minor": 1
}